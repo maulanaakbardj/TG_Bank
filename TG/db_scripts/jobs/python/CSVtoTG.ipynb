{
 "cells": [
  {
   "cell_type": "code",
   "execution_count": 4,
   "metadata": {},
   "outputs": [],
   "source": [
    "import pyTigerGraph as tg\n",
    "import pandas as pd\n",
    "from datetime import datetime\n",
    "import pytz"
   ]
  },
  {
   "cell_type": "code",
   "execution_count": 5,
   "metadata": {},
   "outputs": [],
   "source": [
    "trx=pd.read_csv(\"Transactional_1_UC9.csv\")\n",
    "atm=pd.read_csv(\"REF_ATM_Machine_1_UC9.csv\")\n",
    "ib_loc=pd.read_csv(\"IBank_Trx_Location_1_UC9.csv\")\n",
    "ib_dev=pd.read_csv(\"REF_IBank_Device_1_UC9.csv\")\n",
    "mob_loc=pd.read_csv(\"Mobile_Trx_Location_1_UC9.csv\")\n",
    "mob_dev=pd.read_csv(\"REF_Mobile_Device_1_UC9.csv\")\n",
    "mob_tel=pd.read_csv(\"REF_Mobile_Telco_1_UC9.csv\")\n"
   ]
  },
  {
   "cell_type": "code",
   "execution_count": 6,
   "metadata": {},
   "outputs": [
    {
     "name": "stdout",
     "output_type": "stream",
     "text": [
      "<class 'pandas.core.frame.DataFrame'>\n",
      "RangeIndex: 10 entries, 0 to 9\n",
      "Data columns (total 25 columns):\n",
      " #   Column                                Non-Null Count  Dtype  \n",
      "---  ------                                --------------  -----  \n",
      " 0   Account_Debit_BSI_ID                  10 non-null     object \n",
      " 1   ATM_Card_ID                           10 non-null     int64  \n",
      " 2   ATM_Machine_ID                        10 non-null     object \n",
      " 3   ATM_Trx_ID                            10 non-null     int64  \n",
      " 4   ATM_Trx_Code                          10 non-null     int64  \n",
      " 5   ATM_Trx_Type                          10 non-null     object \n",
      " 6   ATM_Trx_Amount                        10 non-null     int64  \n",
      " 7   ATM_Trx_Datetime                      10 non-null     object \n",
      " 8   Account_Debit_BSI_ID_ATM_Receiver     0 non-null      float64\n",
      " 9   Mobile_App_ID                         10 non-null     int64  \n",
      " 10  Mobile_Location_ID                    10 non-null     object \n",
      " 11  Mobile_App_Trx_ID                     10 non-null     int64  \n",
      " 12  Mobile_App_Trx_Code                   10 non-null     int64  \n",
      " 13  Mobile_App_Trx_Type                   10 non-null     object \n",
      " 14  Mobile_App_Trx_Amount                 10 non-null     int64  \n",
      " 15  Mobile_App_Trx_Datetime               10 non-null     object \n",
      " 16  Account_Debit_BSI_ID_Mobile_Receiver  0 non-null      float64\n",
      " 17  IBank_ID                              10 non-null     int64  \n",
      " 18  IBank_IP_Address                      10 non-null     object \n",
      " 19  IBank_Trx_ID                          10 non-null     int64  \n",
      " 20  IBank_Trx_Code                        10 non-null     int64  \n",
      " 21  IBank_Trx_Type                        10 non-null     object \n",
      " 22  IBank_Trx_Amount                      10 non-null     int64  \n",
      " 23  IBank_Trx_Datetime                    10 non-null     object \n",
      " 24  Account_Debit_BSI_ID_IBank_Receiver   0 non-null      float64\n",
      "dtypes: float64(3), int64(12), object(10)\n",
      "memory usage: 2.1+ KB\n"
     ]
    }
   ],
   "source": [
    "trx.info()"
   ]
  },
  {
   "cell_type": "code",
   "execution_count": 7,
   "metadata": {},
   "outputs": [],
   "source": [
    "# Change Dataframe Data type according to vertex Data type\n",
    "trx['Account_Debit_BSI_ID'] = trx['Account_Debit_BSI_ID'].astype(str)\n",
    "trx['ATM_Card_ID'] = trx['ATM_Card_ID'].astype(str)\n",
    "trx['ATM_Machine_ID'] = trx['ATM_Machine_ID'].astype(str)\n",
    "trx['ATM_Trx_ID'] = trx['ATM_Trx_ID'].astype(str)\n",
    "trx['ATM_Trx_Code'] = trx['ATM_Trx_Code'].astype(int)\n",
    "trx['ATM_Trx_Type'] = trx['ATM_Trx_Type'].astype(str)\n",
    "trx['ATM_Trx_Amount'] = trx['ATM_Trx_Amount'].astype(int)\n",
    "trx['ATM_Trx_Datetime'] = trx['ATM_Trx_Datetime'].astype(str)\n",
    "# trx['ATM_Trx_Datetime'] = pd.to_datetime(trx['ATM_Trx_Datetime'], format='%Y-%m-%d %H:%M:%S')\n",
    "trx['Account_Debit_BSI_ID_ATM_Receiver'] = trx['Account_Debit_BSI_ID_ATM_Receiver'].astype(str)\n",
    "trx['Mobile_App_ID'] = trx['Mobile_App_ID'].astype(str)\n",
    "trx['Mobile_Location_ID'] = trx['Mobile_Location_ID'].astype(str)\n",
    "trx['Mobile_App_Trx_ID'] = trx['Mobile_App_Trx_ID'].astype(str)\n",
    "trx['Mobile_App_Trx_Code'] = trx['Mobile_App_Trx_Code'].astype(int)\n",
    "trx['Mobile_App_Trx_Type'] = trx['Mobile_App_Trx_Type'].astype(str)\n",
    "trx['Mobile_App_Trx_Amount'] = trx['Mobile_App_Trx_Amount'].astype(int)\n",
    "trx['Mobile_App_Trx_Datetime'] = trx['Mobile_App_Trx_Datetime'].astype(str)\n",
    "# trx['Mobile_App_Trx_Datetime'] = pd.to_datetime(trx['Mobile_App_Trx_Datetime'], format='%Y-%m-%d %H:%M:%S')\n",
    "trx['Account_Debit_BSI_ID_Mobile_Receiver'] = trx['Account_Debit_BSI_ID_Mobile_Receiver'].astype(str)\n",
    "trx['IBank_ID'] = trx['IBank_ID'].astype(str)\n",
    "trx['IBank_IP_Address'] = trx['IBank_IP_Address'].astype(str)\n",
    "trx['IBank_Trx_ID'] = trx['IBank_Trx_ID'].astype(str)\n",
    "trx['IBank_Trx_Code'] = trx['IBank_Trx_Code'].astype(int)\n",
    "trx['IBank_Trx_Type'] = trx['IBank_Trx_Type'].astype(str)\n",
    "trx['IBank_Trx_Amount'] = trx['IBank_Trx_Amount'].astype(int)\n",
    "trx['IBank_Trx_Datetime'] = trx['IBank_Trx_Datetime'].astype(str)\n",
    "# trx['IBank_Trx_Datetime'] = pd.to_datetime(trx['IBank_Trx_Datetime'], format='%Y-%m-%d %H:%M:%S')\n",
    "trx['Account_Debit_BSI_ID_IBank_Receiver'] = trx['Account_Debit_BSI_ID_IBank_Receiver'].astype(str)"
   ]
  },
  {
   "cell_type": "code",
   "execution_count": 8,
   "metadata": {},
   "outputs": [
    {
     "name": "stdout",
     "output_type": "stream",
     "text": [
      "<class 'pandas.core.frame.DataFrame'>\n",
      "RangeIndex: 10 entries, 0 to 9\n",
      "Data columns (total 13 columns):\n",
      " #   Column                    Non-Null Count  Dtype  \n",
      "---  ------                    --------------  -----  \n",
      " 0   ATM_Machine_ID            10 non-null     object \n",
      " 1   ATM_Brand                 10 non-null     object \n",
      " 2   ATM_Type                  10 non-null     object \n",
      " 3   ATM_Operation_Code        10 non-null     int64  \n",
      " 4   ATM_Operation_Time        10 non-null     object \n",
      " 5   ATM_Operation_Time_Start  0 non-null      float64\n",
      " 6   ATM_Operation_Time_End    0 non-null      float64\n",
      " 7   ATM_Name                  0 non-null      float64\n",
      " 8   ATM_Latitude              10 non-null     float64\n",
      " 9   ATM_Longitude             10 non-null     float64\n",
      " 10  ATM_City                  10 non-null     object \n",
      " 11  ATM_Area                  10 non-null     object \n",
      " 12  ATM_Address               0 non-null      float64\n",
      "dtypes: float64(6), int64(1), object(6)\n",
      "memory usage: 1.1+ KB\n"
     ]
    }
   ],
   "source": [
    "atm.info()"
   ]
  },
  {
   "cell_type": "code",
   "execution_count": 9,
   "metadata": {},
   "outputs": [],
   "source": [
    "atm['ATM_Machine_ID'] = atm['ATM_Machine_ID'].astype(str)\n",
    "atm['ATM_Brand'] = atm['ATM_Brand'].astype(str)\n",
    "atm['ATM_Type'] = atm['ATM_Type'].astype(str)\n",
    "atm['ATM_Operation_Code'] = atm['ATM_Operation_Code'].astype(str)\n",
    "atm['ATM_Operation_Time'] = atm['ATM_Operation_Time'].astype(str)\n",
    "atm['ATM_Operation_Time_Start'] = atm['ATM_Operation_Time_Start'].astype(str)\n",
    "atm['ATM_Operation_Time_End'] = atm['ATM_Operation_Time_End'].astype(str)\n",
    "atm['ATM_Name'] = atm['ATM_Name'].astype(str)\n",
    "atm['ATM_Latitude'] = atm['ATM_Latitude'].astype(float)\n",
    "atm['ATM_Longitude'] = atm['ATM_Longitude'].astype(float)\n",
    "atm['ATM_City'] = atm['ATM_City'].astype(str)\n",
    "atm['ATM_Area'] = atm['ATM_Area'].astype(str)\n",
    "atm['ATM_Address'] = atm['ATM_Address'].astype(str)"
   ]
  },
  {
   "cell_type": "code",
   "execution_count": 10,
   "metadata": {},
   "outputs": [
    {
     "name": "stdout",
     "output_type": "stream",
     "text": [
      "<class 'pandas.core.frame.DataFrame'>\n",
      "RangeIndex: 10 entries, 0 to 9\n",
      "Data columns (total 8 columns):\n",
      " #   Column                   Non-Null Count  Dtype  \n",
      "---  ------                   --------------  -----  \n",
      " 0   IBank_Device_ID          10 non-null     object \n",
      " 1   IBank_IP_Address         10 non-null     object \n",
      " 2   IBank_IP_Address_Range1  10 non-null     object \n",
      " 3   IBank_IP_Address_Range2  10 non-null     object \n",
      " 4   IBank_Inet_Provider      10 non-null     object \n",
      " 5   IBank_Inet_Location      10 non-null     object \n",
      " 6   IBank_Inet_Latitude      10 non-null     float64\n",
      " 7   IBank_Inet_Longitude     10 non-null     float64\n",
      "dtypes: float64(2), object(6)\n",
      "memory usage: 768.0+ bytes\n"
     ]
    }
   ],
   "source": [
    "ib_loc.info()"
   ]
  },
  {
   "cell_type": "code",
   "execution_count": 11,
   "metadata": {},
   "outputs": [],
   "source": [
    "ib_loc['IBank_Device_ID'] = ib_loc['IBank_Device_ID'].astype(str)\n",
    "ib_loc['IBank_IP_Address'] = ib_loc['IBank_IP_Address'].astype(str)\n",
    "ib_loc['IBank_IP_Address_Range1'] = ib_loc['IBank_IP_Address_Range1'].astype(str)\n",
    "ib_loc['IBank_IP_Address_Range2'] = ib_loc['IBank_IP_Address_Range2'].astype(str)\n",
    "ib_loc['IBank_Inet_Provider'] = ib_loc['IBank_Inet_Provider'].astype(str)\n",
    "ib_loc['IBank_Inet_Location'] = ib_loc['IBank_Inet_Location'].astype(str)\n",
    "ib_loc['IBank_Inet_Latitude'] = ib_loc['IBank_Inet_Latitude'].astype(float)\n",
    "ib_loc['IBank_Inet_Longitude'] = ib_loc['IBank_Inet_Longitude'].astype(float)"
   ]
  },
  {
   "cell_type": "code",
   "execution_count": 12,
   "metadata": {},
   "outputs": [
    {
     "name": "stdout",
     "output_type": "stream",
     "text": [
      "<class 'pandas.core.frame.DataFrame'>\n",
      "RangeIndex: 10 entries, 0 to 9\n",
      "Data columns (total 2 columns):\n",
      " #   Column             Non-Null Count  Dtype \n",
      "---  ------             --------------  ----- \n",
      " 0   IBank_Device_ID    10 non-null     object\n",
      " 1   IBank_Device_Type  10 non-null     object\n",
      "dtypes: object(2)\n",
      "memory usage: 288.0+ bytes\n"
     ]
    }
   ],
   "source": [
    "ib_dev.info()"
   ]
  },
  {
   "cell_type": "code",
   "execution_count": 13,
   "metadata": {},
   "outputs": [],
   "source": [
    "ib_dev['IBank_Device_ID'] =ib_dev['IBank_Device_ID'].astype(str)\n",
    "ib_dev['IBank_Device_Type'] =ib_dev['IBank_Device_Type'].astype(str)\n"
   ]
  },
  {
   "cell_type": "code",
   "execution_count": 14,
   "metadata": {},
   "outputs": [
    {
     "name": "stdout",
     "output_type": "stream",
     "text": [
      "<class 'pandas.core.frame.DataFrame'>\n",
      "RangeIndex: 10 entries, 0 to 9\n",
      "Data columns (total 6 columns):\n",
      " #   Column                  Non-Null Count  Dtype  \n",
      "---  ------                  --------------  -----  \n",
      " 0   Mobile_Device_ID        10 non-null     object \n",
      " 1   Mobile_Trx_Location_ID  10 non-null     object \n",
      " 2   Mobile_GPS_Latitude     10 non-null     float64\n",
      " 3   Mobile_GPS_Longitude    10 non-null     float64\n",
      " 4   Mobile_GPS_City         10 non-null     object \n",
      " 5   Mobile_GPS_Area         10 non-null     object \n",
      "dtypes: float64(2), object(4)\n",
      "memory usage: 608.0+ bytes\n"
     ]
    }
   ],
   "source": [
    "mob_loc.info()"
   ]
  },
  {
   "cell_type": "code",
   "execution_count": 15,
   "metadata": {},
   "outputs": [],
   "source": [
    "mob_loc['Mobile_Trx_Location_ID'] = mob_loc['Mobile_Trx_Location_ID'].astype(str)\n",
    "mob_loc['Mobile_Device_ID'] = mob_loc['Mobile_Device_ID'].astype(str)\n",
    "mob_loc['Mobile_GPS_Latitude'] = mob_loc['Mobile_GPS_Latitude'].astype(float)\n",
    "mob_loc['Mobile_GPS_Longitude'] = mob_loc['Mobile_GPS_Longitude'].astype(float)\n",
    "mob_loc['Mobile_GPS_City'] = mob_loc['Mobile_GPS_City'].astype(str)\n",
    "mob_loc['Mobile_GPS_Area'] = mob_loc['Mobile_GPS_Area'].astype(str)"
   ]
  },
  {
   "cell_type": "code",
   "execution_count": 16,
   "metadata": {},
   "outputs": [
    {
     "name": "stdout",
     "output_type": "stream",
     "text": [
      "<class 'pandas.core.frame.DataFrame'>\n",
      "RangeIndex: 10 entries, 0 to 9\n",
      "Data columns (total 5 columns):\n",
      " #   Column                    Non-Null Count  Dtype \n",
      "---  ------                    --------------  ----- \n",
      " 0   Mobile_Telco_ID           10 non-null     object\n",
      " 1   Mobile_Device_ID          10 non-null     object\n",
      " 2   Mobile_Device_Brand       10 non-null     object\n",
      " 3   Mobile_Device_OS_Type     10 non-null     object\n",
      " 4   Mobile_Device_OS_Version  10 non-null     int64 \n",
      "dtypes: int64(1), object(4)\n",
      "memory usage: 528.0+ bytes\n"
     ]
    }
   ],
   "source": [
    "mob_dev.info()"
   ]
  },
  {
   "cell_type": "code",
   "execution_count": 17,
   "metadata": {},
   "outputs": [],
   "source": [
    "mob_dev['Mobile_Device_ID'] = mob_dev['Mobile_Device_ID'].astype(str)\n",
    "mob_dev['Mobile_Telco_ID'] = mob_dev['Mobile_Telco_ID'].astype(str)\n",
    "mob_dev['Mobile_Device_Brand'] = mob_dev['Mobile_Device_Brand'].astype(str)\n",
    "mob_dev['Mobile_Device_OS_Type'] = mob_dev['Mobile_Device_OS_Type'].astype(str)\n",
    "mob_dev['Mobile_Device_OS_Version'] = mob_dev['Mobile_Device_OS_Version'].astype(str)"
   ]
  },
  {
   "cell_type": "code",
   "execution_count": 18,
   "metadata": {},
   "outputs": [
    {
     "name": "stdout",
     "output_type": "stream",
     "text": [
      "<class 'pandas.core.frame.DataFrame'>\n",
      "RangeIndex: 10 entries, 0 to 9\n",
      "Data columns (total 2 columns):\n",
      " #   Column             Non-Null Count  Dtype \n",
      "---  ------             --------------  ----- \n",
      " 0   Mobile_Telco_ID    10 non-null     object\n",
      " 1   Mobile_Telco_Name  10 non-null     object\n",
      "dtypes: object(2)\n",
      "memory usage: 288.0+ bytes\n"
     ]
    }
   ],
   "source": [
    "mob_tel.info()"
   ]
  },
  {
   "cell_type": "code",
   "execution_count": 19,
   "metadata": {},
   "outputs": [],
   "source": [
    "mob_tel['Mobile_Telco_ID'] = mob_tel['Mobile_Telco_ID'].astype(str)\n",
    "mob_tel['Mobile_Telco_Name'] = mob_tel['Mobile_Telco_Name'].astype(str)"
   ]
  },
  {
   "cell_type": "code",
   "execution_count": null,
   "metadata": {},
   "outputs": [],
   "source": [
    "conn = tg.TigerGraphConnection(host=\"http://192.168.100.8\")\n",
    "conn.graphname = \"Graph_Practice_New\""
   ]
  },
  {
   "cell_type": "code",
   "execution_count": 38,
   "metadata": {},
   "outputs": [
    {
     "name": "stdout",
     "output_type": "stream",
     "text": [
      "10 V_ATM_Machine VERTICES Upserted\n",
      "10 V_Mobile_Telco VERTICES Upserted\n",
      "10 V_IBank_Device VERTICES Upserted\n",
      "10 V_Mobile_Trx_Location VERTICES Upserted\n",
      "10 V_Mobile_Device VERTICES Upserted\n",
      "10 V_IBank_Trx_Location VERTICES Upserted\n",
      "10 V_ATM_Trx Upserted\n",
      "10 V_Mobile_App_Trx Upserted\n",
      "10 V_IBank_Trx Upserted\n",
      "10 V_Account_Debit_BSI Upserted\n",
      "10 E_Located_Mobile EDGES Upserted\n",
      "10 E__Use_Mobile_Telco EDGES Upserted\n",
      "10 E_Use_Device EDGES Upserted\n",
      "10 E_ATM_Send EDGES Upserted\n",
      "10 E_Use_Machine EDGES Upserted\n",
      "10 E_Use_ATM_Card EDGES Upserted\n",
      "10 E_Owns_ATM_Card\n",
      "10 E_Mobile_Send EDGES Upserted\n",
      "10 E_Mobile_Trx_Loc EDGES Upserted\n",
      "10 E_Use_Mobile_App EDGES Upserted\n",
      "10 E_Owns_Mobile_App\n",
      "10 E_IBank_Send EDGES Upserted\n",
      "10 E_IBank_Trx_Loc EDGES Upserted\n",
      "10 E_Use_IBank EDGES Upserted\n",
      "10 E_Owns_IBank Upserted\n"
     ]
    }
   ],
   "source": [
    "# UPSERT VERTEX\n",
    "## upsertVertexDataframe(df, vertexType, v_id=None, attributes=None)\n",
    "### conn.upsertVertexDataframe(df=person, vertexType='person', v_id='name')\n",
    "\n",
    "v_atm = conn.upsertVertexDataFrame(atm, \"V_ATM_Machine\", \"ATM_Machine_ID\", attributes= {\"ATM_Machine_ID\": \"ATM_Machine_ID\", \"ATM_Brand\":\"ATM_Brand\", \"ATM_Type\":\"ATM_Type\", \"ATM_Operation_Code\":\"ATM_Operation_Code\", \"ATM_Operation_Time\":\"ATM_Operation_Time\", \"ATM_Operation_Time_Start\":\"ATM_Operation_Time_Start\", \"ATM_Operation_Time_End\":\"ATM_Operation_Time_End\", \"ATM_Operation_Time_End\":\"ATM_Operation_Time_End\",\"ATM_Name\": \"ATM_Name\",\"ATM_Latitude\":\"ATM_Latitude\", \"ATM_Longitude\":\"ATM_Longitude\", \"ATM_City\":\"ATM_City\", \"ATM_Area\":\"ATM_Area\", \"ATM_Address\":\"ATM_Address\"})\n",
    "print(str(v_atm) + \" V_ATM_Machine VERTICES Upserted\")\n",
    "v_Mobile_Telco = conn.upsertVertexDataFrame(mob_tel, \"V_Mobile_Telco\", \"Mobile_Telco_ID\", attributes= {\"Mobile_Telco_ID\": \"Mobile_Telco_ID\", \"Mobile_Telco_Name\":\"Mobile_Telco_Name\"})\n",
    "print(str(v_Mobile_Telco) + \" V_Mobile_Telco VERTICES Upserted\")\n",
    "v_IBank_Device = conn.upsertVertexDataFrame(ib_dev, \"V_IBank_Device\", \"IBank_Device_ID\", attributes= {\"IBank_Device_ID\": \"IBank_Device_ID\", \"IBank_Device_Type\":\"IBank_Device_Type\"})\n",
    "print(str(v_IBank_Device) + \" V_IBank_Device VERTICES Upserted\")\n",
    "v_Mobile_Trx_Location = conn.upsertVertexDataFrame(mob_loc, \"V_Mobile_Trx_Location\", \"Mobile_Trx_Location_ID\", attributes= {\"Mobile_Location_ID\": \"Mobile_Trx_Location_ID\", \"Mobile_GPS_Latitude\":\"Mobile_GPS_Latitude\",\"Mobile_GPS_Longitude\": \"Mobile_GPS_Longitude\", \"Mobile_GPS_City\":\"Mobile_GPS_City\", \"Mobile_GPS_Area\":\"Mobile_GPS_Area\"})\n",
    "print(str(v_Mobile_Trx_Location) + \" V_Mobile_Trx_Location VERTICES Upserted\")\n",
    "v_Mobile_Device = conn.upsertVertexDataFrame(mob_dev, \"V_Mobile_Device\", \"Mobile_Device_ID\", attributes= {\"Mobile_Device_ID\": \"Mobile_Device_ID\", \"Mobile_Device_Brand\":\"Mobile_Device_Brand\",\"Mobile_Device_OS_Type\":\"Mobile_Device_OS_Type\",\"Mobile_Device_OS_Version\":\"Mobile_Device_OS_Version\"})\n",
    "print(str(v_Mobile_Device) + \" V_Mobile_Device VERTICES Upserted\")\n",
    "v_IBank_Trx_Location = conn.upsertVertexDataFrame(ib_loc, \"V_IBank_Trx_Location\", \"IBank_IP_Address\", attributes= {\"IBank_IP_Address\": \"IBank_IP_Address\", \"IBank_Inet_Location\":\"IBank_Inet_Location\",\"IBank_IP_Address_Range1\":\"IBank_IP_Address_Range1\",\"IBank_IP_Address_Range2\":\"IBank_IP_Address_Range2\",\"IBank_Inet_Provider\":\"IBank_Inet_Provider\", \"IBank_Inet_Latitude\":\"IBank_Inet_Latitude\", \"IBank_Inet_Longitude\":\"IBank_Inet_Longitude\"})\n",
    "print(str(v_IBank_Trx_Location) + \" V_IBank_Trx_Location VERTICES Upserted\")\n",
    "v_ATM_Trx = conn.upsertVertexDataFrame(trx, \"V_ATM_Trx\", \"ATM_Trx_ID\", attributes= {\"ATM_Trx_ID\": \"ATM_Trx_ID\", \"ATM_Trx_Code\":\"ATM_Trx_Code\",\"ATM_Trx_Type\":\"ATM_Trx_Type\",\"ATM_Trx_Amount\":\"ATM_Trx_Amount\",\"ATM_Trx_Datetime\":\"ATM_Trx_Datetime\"})\n",
    "print(str(v_ATM_Trx) + \" V_ATM_Trx Upserted\")\n",
    "v_Mobile_App_Trx = conn.upsertVertexDataFrame(trx, \"V_Mobile_App_Trx\", \"Mobile_App_Trx_ID\", attributes= {\"Mobile_App_Trx_ID\": \"Mobile_App_Trx_ID\", \"Mobile_App_Trx_Code\":\"Mobile_App_Trx_Code\",\"Mobile_App_Trx_Type\":\"Mobile_App_Trx_Type\",\"Mobile_App_Trx_Amount\":\"Mobile_App_Trx_Amount\",\"Mobile_App_Trx_Datetime\":\"Mobile_App_Trx_Datetime\"})\n",
    "print(str(v_Mobile_App_Trx) + \" V_Mobile_App_Trx Upserted\")\n",
    "v_IBank_Trx = conn.upsertVertexDataFrame(trx, \"V_IBank_Trx\", \"IBank_Trx_ID\", attributes= {\"IBank_Trx_ID\": \"IBank_Trx_ID\", \"IBank_Trx_Code\":\"IBank_Trx_Code\",\"IBank_Trx_Type\":\"IBank_Trx_Type\",\"IBank_Trx_Amount\":\"IBank_Trx_Amount\",\"IBank_Trx_Datetime\":\"IBank_Trx_Datetime\"})\n",
    "print(str(v_IBank_Trx) + \" V_IBank_Trx Upserted\")\n",
    "v_Account_Debit_BSI = conn.upsertVertexDataFrame(trx, \"V_Account_Debit_BSI\", \"Account_Debit_BSI_ID\", attributes= {\"Account_ID\":\"Account_Debit_BSI_ID\"})\n",
    "print(str(v_Account_Debit_BSI) + \" V_Account_Debit_BSI Upserted\")\n",
    "\n",
    "## If your Dataframe has receiver account value use this\n",
    "# v_Account_Debit_BSI = conn.upsertVertexDataFrame(trx, \"V_Account_Debit_BSI\", \"Account_Debit_BSI_ID_ATM_Receiver\", attributes= {\"Account_ID\":\"Account_Debit_BSI_ID_ATM_Receiver\"})\n",
    "# print(str(v_Account_Debit_BSI) + \" V_Account_Debit_BSI Upserted\")\n",
    "# v_Account_Debit_BSI = conn.upsertVertexDataFrame(trx, \"V_Account_Debit_BSI\", \"Account_Debit_BSI_ID_Mobile_Receiver\", attributes= {\"Account_ID\":\"Account_Debit_BSI_ID_Mobile_Receiver\"})\n",
    "# print(str(v_Account_Debit_BSI) + \" V_Account_Debit_BSI Upserted\")\n",
    "# v_Account_Debit_BSI = conn.upsertVertexDataFrame(trx, \"V_Account_Debit_BSI\", \"Account_Debit_BSI_ID_IBank_Receiver\", attributes= {\"Account_ID\":\"Account_Debit_BSI_ID_IBank_Receiver\"})\n",
    "# print(str(v_Account_Debit_BSI) + \" V_Account_Debit_BSI Upserted\")\n",
    "\n",
    "\n",
    "# UPSERT EDGE\n",
    "## upsertEdgesDataframe(df, sourceVertexType, edgeType, targetVertexType, from_id=None, to_id=None, attributes=None)\n",
    "\n",
    "e_Located_Mobile = conn.upsertEdgeDataFrame ( mob_loc, \"V_Mobile_Trx_Location\", \"E_Located_Mobile\", \"V_Mobile_Device\", from_id=\"Mobile_Trx_Location_ID\", to_id=\"Mobile_Device_ID\", attributes={})\n",
    "print(str(e_Located_Mobile) + \" E_Located_Mobile EDGES Upserted\")\n",
    "e_Use_Mobile_Telco = conn.upsertEdgeDataFrame ( mob_dev, \"V_Mobile_Device\", \"E_Use_Mobile_Telco\", \"V_Mobile_Telco\", from_id=\"Mobile_Device_ID\", to_id=\"Mobile_Telco_ID\", attributes={})\n",
    "print(str(e_Use_Mobile_Telco) + \" E__Use_Mobile_Telco EDGES Upserted\")\n",
    "e_Use_Device = conn.upsertEdgeDataFrame ( ib_loc, \"V_IBank_Trx_Location\", \"E_Use_Device\", \"V_IBank_Device\", from_id=\"IBank_IP_Address\", to_id=\"IBank_Device_ID\", attributes={})\n",
    "print(str(e_Use_Device) + \" E_Use_Device EDGES Upserted\")\n",
    "e_ATM_Send = conn.upsertEdgeDataFrame (trx, \"V_Account_Debit_BSI\", \"E_ATM_Send\", \"V_ATM_Trx\", from_id=\"Account_Debit_BSI_ID\", to_id=\"ATM_Trx_ID\", attributes={})\n",
    "print(str(e_ATM_Send) + \" E_ATM_Send EDGES Upserted\")\n",
    "e_Use_Machine = conn.upsertEdgeDataFrame (trx, \"V_ATM_Trx\", \"E_Use_Machine\", \"V_ATM_Machine\", from_id=\"ATM_Trx_ID\", to_id=\"ATM_Machine_ID\", attributes={})\n",
    "print(str(e_Use_Machine) + \" E_Use_Machine EDGES Upserted\")\n",
    "e_Use_ATM_Card = conn.upsertEdgeDataFrame (trx, \"V_ATM_Trx\", \"E_Use_ATM_Card\", \"V_ATM_Card_REF\", from_id=\"ATM_Trx_ID\", to_id=\"ATM_Card_ID\", attributes={})\n",
    "print(str(e_Use_ATM_Card) + \" E_Use_ATM_Card EDGES Upserted\")\n",
    "e_Owns_ATM_Card = conn.upsertEdgeDataFrame (trx, \"V_Account_Debit_BSI\", \"E_Owns_ATM_Card\", \"V_ATM_Card_REF\", from_id=\"Account_Debit_BSI_ID\", to_id=\"ATM_Card_ID\", attributes={})\n",
    "print(str(e_Owns_ATM_Card) + \" E_Owns_ATM_Card\")\n",
    "e_Mobile_Send = conn.upsertEdgeDataFrame (trx, \"V_Account_Debit_BSI\", \"E_Mobile_Send\", \"V_Mobile_App_Trx\", from_id=\"Account_Debit_BSI_ID\", to_id=\"Mobile_App_Trx_ID\", attributes={})\n",
    "print(str(e_Mobile_Send) + \" E_Mobile_Send EDGES Upserted\")\n",
    "e_Mobile_Trx_Loc = conn.upsertEdgeDataFrame (trx, \"V_Mobile_App_Trx\", \"E_Mobile_Trx_Loc\", \"V_Mobile_Trx_Location\", from_id=\"Mobile_App_Trx_ID\", to_id=\"Mobile_Location_ID\", attributes={})\n",
    "print(str(e_Mobile_Trx_Loc) + \" E_Mobile_Trx_Loc EDGES Upserted\")\n",
    "e_Use_Mobile_App = conn.upsertEdgeDataFrame (trx, \"V_Mobile_App_Trx\", \"E_Use_Mobile_App\", \"V_Mobile_App_REF\", from_id=\"Mobile_App_Trx_ID\", to_id=\"Mobile_App_ID\", attributes={})\n",
    "print(str(e_Use_Mobile_App) + \" E_Use_Mobile_App EDGES Upserted\")\n",
    "e_Owns_Mobile_App = conn.upsertEdgeDataFrame (trx, \"V_Account_Debit_BSI\", \"E_Owns_Mobile_App\", \"V_Mobile_App_REF\", from_id=\"Account_Debit_BSI_ID\", to_id=\"Mobile_App_ID\", attributes={})\n",
    "print(str(e_Owns_ATM_Card) + \" E_Owns_Mobile_App\")\n",
    "e_IBank_Send = conn.upsertEdgeDataFrame (trx, \"V_Account_Debit_BSI\", \"E_IBank_Send\", \"V_IBank_Trx\", from_id=\"Account_Debit_BSI_ID\", to_id=\"IBank_Trx_ID\", attributes={})\n",
    "print(str(e_IBank_Send) + \" E_IBank_Send EDGES Upserted\")\n",
    "e_IBank_Trx_Loc = conn.upsertEdgeDataFrame (trx, \"V_IBank_Trx\", \"E_IBank_Trx_Loc\", \"V_IBank_Trx_Location\", from_id=\"IBank_Trx_ID\", to_id=\"IBank_IP_Address\", attributes={})\n",
    "print(str(e_IBank_Trx_Loc) + \" E_IBank_Trx_Loc EDGES Upserted\")\n",
    "e_Use_IBank = conn.upsertEdgeDataFrame (trx, \"V_IBank_Trx\", \"E_Use_IBank\", \"V_IBank_REF\", from_id=\"Mobile_App_Trx_ID\", to_id=\"IBank_ID\", attributes={})\n",
    "print(str(e_Use_IBank) + \" E_Use_IBank EDGES Upserted\")\n",
    "e_Owns_IBank = conn.upsertEdgeDataFrame (trx, \"V_Account_Debit_BSI\", \"E_Owns_IBank\", \"V_IBank_REF\", from_id=\"Account_Debit_BSI_ID\", to_id=\"IBank_ID\", attributes={})\n",
    "print(str(e_Owns_IBank) + \" E_Owns_IBank Upserted\")"
   ]
  }
 ],
 "metadata": {
  "kernelspec": {
   "display_name": "base",
   "language": "python",
   "name": "python3"
  },
  "language_info": {
   "codemirror_mode": {
    "name": "ipython",
    "version": 3
   },
   "file_extension": ".py",
   "mimetype": "text/x-python",
   "name": "python",
   "nbconvert_exporter": "python",
   "pygments_lexer": "ipython3",
   "version": "3.8.3"
  },
  "orig_nbformat": 4,
  "vscode": {
   "interpreter": {
    "hash": "cec7daa8bc2b3acc688b72e107af71b7070ca84a9339e237bd4d9d44f746e39c"
   }
  }
 },
 "nbformat": 4,
 "nbformat_minor": 2
}
